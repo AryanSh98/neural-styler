{
  "nbformat": 4,
  "nbformat_minor": 0,
  "metadata": {
    "colab": {
      "name": "stylist.ipynb",
      "provenance": [],
      "collapsed_sections": [],
      "toc_visible": true
    },
    "kernelspec": {
      "name": "python3",
      "display_name": "Python 3"
    },
    "accelerator": "GPU"
  },
  "cells": [
    {
      "cell_type": "markdown",
      "metadata": {
        "id": "VyAhc9FpYH8r"
      },
      "source": [
        "### Check GPU info"
      ]
    },
    {
      "cell_type": "code",
      "metadata": {
        "id": "68NK7U2sYR1u",
        "outputId": "7be599c5-3538-4cf5-b32f-47752ae40ac0",
        "colab": {
          "base_uri": "https://localhost:8080/",
          "height": 369
        }
      },
      "source": [
        "# best gpus: Tesla T4, Tesla p100\n",
        "# Tesla k80 or p4 are almost 2 times slower\n",
        "import os\n",
        "os.environ['TF_CPP_MIN_LOG_LEVEL'] = '2'\n",
        "!nvidia-smi"
      ],
      "execution_count": 5,
      "outputs": [
        {
          "output_type": "stream",
          "text": [
            "Fri Oct 16 07:23:54 2020       \n",
            "+-----------------------------------------------------------------------------+\n",
            "| NVIDIA-SMI 455.23.05    Driver Version: 418.67       CUDA Version: 10.1     |\n",
            "|-------------------------------+----------------------+----------------------+\n",
            "| GPU  Name        Persistence-M| Bus-Id        Disp.A | Volatile Uncorr. ECC |\n",
            "| Fan  Temp  Perf  Pwr:Usage/Cap|         Memory-Usage | GPU-Util  Compute M. |\n",
            "|                               |                      |               MIG M. |\n",
            "|===============================+======================+======================|\n",
            "|   0  Tesla K80           Off  | 00000000:00:04.0 Off |                    0 |\n",
            "| N/A   72C    P8    33W / 149W |      0MiB / 11441MiB |      0%      Default |\n",
            "|                               |                      |                 ERR! |\n",
            "+-------------------------------+----------------------+----------------------+\n",
            "                                                                               \n",
            "+-----------------------------------------------------------------------------+\n",
            "| Processes:                                                                  |\n",
            "|  GPU   GI   CI        PID   Type   Process name                  GPU Memory |\n",
            "|        ID   ID                                                   Usage      |\n",
            "|=============================================================================|\n",
            "|  No running processes found                                                 |\n",
            "+-----------------------------------------------------------------------------+\n"
          ],
          "name": "stdout"
        }
      ]
    },
    {
      "cell_type": "markdown",
      "metadata": {
        "id": "pAZHud81SMGK"
      },
      "source": [
        "## Clone the repository"
      ]
    },
    {
      "cell_type": "code",
      "metadata": {
        "id": "9OO6jU5XkWlv",
        "outputId": "b314c6be-2a7a-4299-f1f7-994feb0bed67",
        "colab": {
          "base_uri": "https://localhost:8080/",
          "height": 158
        }
      },
      "source": [
        "!git clone https://github.com/AryanSh98/neural-stylist.git\n",
        "%cd neural-stylist/"
      ],
      "execution_count": 1,
      "outputs": [
        {
          "output_type": "stream",
          "text": [
            "Cloning into 'neural-stylist'...\n",
            "remote: Enumerating objects: 20, done.\u001b[K\n",
            "remote: Counting objects: 100% (20/20), done.\u001b[K\n",
            "remote: Compressing objects: 100% (19/19), done.\u001b[K\n",
            "remote: Total 460 (delta 10), reused 4 (delta 1), pack-reused 440\u001b[K\n",
            "Receiving objects: 100% (460/460), 60.51 MiB | 34.59 MiB/s, done.\n",
            "Resolving deltas: 100% (222/222), done.\n",
            "/content/neural-stylist\n"
          ],
          "name": "stdout"
        }
      ]
    },
    {
      "cell_type": "markdown",
      "metadata": {
        "id": "1-QJ_E--S5BH"
      },
      "source": [
        "## Evaluate on pretrained models\n",
        "Here we choose one of the styles from config folder like mosaic (mosaic.json) and give our input picture to give it a mosaic style. every info needed for evaluation and training are in the config files. here is a sample:"
      ]
    },
    {
      "cell_type": "code",
      "metadata": {
        "id": "IqEjhibaTYSJ",
        "outputId": "3f2bafbf-f082-4e07-bf5c-215764a5656f",
        "colab": {
          "base_uri": "https://localhost:8080/",
          "height": 210
        }
      },
      "source": [
        "!cat config/mosaic.json"
      ],
      "execution_count": 6,
      "outputs": [
        {
          "output_type": "stream",
          "text": [
            "{\n",
            "    \"styleImagePath\": \"images/style/mosaic.jpg\",\n",
            "    \"contentImagePath\": \"images/content/chicago.jpg\",\n",
            "    \"datasetPath\": \"data/train2014\",\n",
            "    \"styleWeight\": 5e-1,\n",
            "    \"contentWeight\": 3e4,\n",
            "    \"tvWeight\": 1e6,\n",
            "    \"epoch\": 2,\n",
            "    \"batchSize\": 4,\n",
            "    \"learningRate\": 1e-3\n",
            "}"
          ],
          "name": "stdout"
        }
      ]
    },
    {
      "cell_type": "markdown",
      "metadata": {
        "id": "2w5K7-DVT_0f"
      },
      "source": [
        "The code below styles the input image and saves it in output folder\n",
        " ./output/mosaic/paris.jpg "
      ]
    },
    {
      "cell_type": "code",
      "metadata": {
        "id": "22HMG3X6oa0Z"
      },
      "source": [
        "!python evaluate.py --style mosaic --input images/content/paris.jpg"
      ],
      "execution_count": null,
      "outputs": []
    },
    {
      "cell_type": "markdown",
      "metadata": {
        "id": "OtTw9rV5U2NP"
      },
      "source": [
        "## Train on your own styles\n",
        "To train a new model for your own style first you should create a json config file by the style name like below:"
      ]
    },
    {
      "cell_type": "code",
      "metadata": {
        "id": "rQLVHZV9VK5g",
        "outputId": "d8c90659-b70f-4b28-939c-4a12f1e03c9e",
        "colab": {
          "base_uri": "https://localhost:8080/",
          "height": 210
        }
      },
      "source": [
        "!cat config/udnie.json"
      ],
      "execution_count": 7,
      "outputs": [
        {
          "output_type": "stream",
          "text": [
            "{\n",
            "    \"styleImagePath\": \"images/style/udnie.jpg\",\n",
            "    \"contentImagePath\": \"images/content/chicago.jpg\",\n",
            "    \"datasetPath\": \"data/train2014\",\n",
            "    \"styleWeight\": 1e0,\n",
            "    \"contentWeight\": 1e4,\n",
            "    \"tvWeight\": 1e6,\n",
            "    \"epoch\": 2,\n",
            "    \"batchSize\": 4,\n",
            "    \"learningRate\": 1e-3\n",
            "}"
          ],
          "name": "stdout"
        }
      ]
    },
    {
      "cell_type": "markdown",
      "metadata": {
        "id": "3MXJl1JLVPnD"
      },
      "source": [
        "First three keys are for data path and the rest are some model parameters. By default there would be 20000 steps and every 2000 steps the model generates a test output on content image which is located in ./models/stylename/stepnumber.jpg"
      ]
    },
    {
      "cell_type": "markdown",
      "metadata": {
        "id": "c0RFW_IQWW4j"
      },
      "source": [
        "### Download dataset"
      ]
    },
    {
      "cell_type": "markdown",
      "metadata": {
        "id": "pXJuROMtWamj"
      },
      "source": [
        "The script below downloads cocodataset and unzips it in ./data folder."
      ]
    },
    {
      "cell_type": "code",
      "metadata": {
        "id": "tsAjeU79nwM-"
      },
      "source": [
        "!mkdir data/\n",
        "%cd data/\n",
        "!wget http://images.cocodataset.org/zips/train2014.zip\n",
        "!unzip -q train2014.zip\n",
        "!rm train2014.zip\n",
        "%cd .."
      ],
      "execution_count": null,
      "outputs": []
    },
    {
      "cell_type": "markdown",
      "metadata": {
        "id": "qG8MsfIpWook"
      },
      "source": [
        "### Training"
      ]
    },
    {
      "cell_type": "markdown",
      "metadata": {
        "id": "S7IYGtyEW0G8"
      },
      "source": [
        "Start the training process by giving your style name and chill for about 2 hours (depending on computational power of your machine. 2 hours on T4 or P100 and abour 4 hours on k80 if you're running this on Colab)"
      ]
    },
    {
      "cell_type": "code",
      "metadata": {
        "id": "17_lWGOcsecp"
      },
      "source": [
        "!python train.py --style udnie"
      ],
      "execution_count": null,
      "outputs": []
    },
    {
      "cell_type": "code",
      "metadata": {
        "id": "aZaB1PHUXNSX"
      },
      "source": [
        "%load_ext tensorboard\n",
        "%tensorboard --logdir models/udnie/logs"
      ],
      "execution_count": null,
      "outputs": []
    },
    {
      "cell_type": "code",
      "metadata": {
        "id": "WZffCQkigF5d"
      },
      "source": [
        "!python evaluate.py --style udnie --input images/content/chicago.jpg"
      ],
      "execution_count": null,
      "outputs": []
    }
  ]
}